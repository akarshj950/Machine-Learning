{
 "cells": [
  {
   "cell_type": "code",
   "execution_count": 2,
   "metadata": {
    "ExecuteTime": {
     "end_time": "2019-03-04T04:09:57.685061Z",
     "start_time": "2019-03-04T04:09:57.680046Z"
    }
   },
   "outputs": [],
   "source": [
    "import keras\n",
    "from PIL import Image"
   ]
  },
  {
   "cell_type": "code",
   "execution_count": 14,
   "metadata": {
    "ExecuteTime": {
     "end_time": "2019-03-04T04:12:19.428927Z",
     "start_time": "2019-03-04T04:12:19.423880Z"
    }
   },
   "outputs": [],
   "source": [
    "from keras.models import Sequential\n",
    "from keras.layers import Dense, Flatten, Conv2D, MaxPooling2D, Dropout, Activation\n",
    "from keras import datasets\n",
    "from keras_preprocessing.image import ImageDataGenerator, load_img\n",
    "import numpy as np\n",
    "from keras import backend as K\n",
    "\n",
    "from keras.preprocessing import image"
   ]
  },
  {
   "cell_type": "code",
   "execution_count": 15,
   "metadata": {
    "ExecuteTime": {
     "end_time": "2019-03-04T04:12:19.689291Z",
     "start_time": "2019-03-04T04:12:19.682306Z"
    }
   },
   "outputs": [],
   "source": [
    "img_width, img_height = 150, 150\n",
    "\n",
    "train_data_dir = 'C:\\\\Users\\\\akars\\\\ML data\\\\CNN\\\\cat_dog_data\\\\train_data'\n",
    "validation_data_dir = 'C:\\\\Users\\\\akars\\\\ML data\\\\CNN\\\\cat_dog_data\\\\test_data'\n",
    "nb_train_samples = 2000\n",
    "nb_validation_samples = 1000\n",
    "epochs = 50\n",
    "batch_size = 16\n",
    "\n",
    "if K.image_data_format() == 'channels_first':\n",
    "    input_shape = (3, img_width, img_height)\n",
    "else:\n",
    "    input_shape = (img_width, img_height, 3)"
   ]
  },
  {
   "cell_type": "code",
   "execution_count": 16,
   "metadata": {
    "ExecuteTime": {
     "end_time": "2019-03-04T04:12:20.558874Z",
     "start_time": "2019-03-04T04:12:20.210011Z"
    }
   },
   "outputs": [],
   "source": [
    "model = Sequential()\n",
    "model.add(Conv2D(32, (3, 3), input_shape=input_shape))\n",
    "model.add(Activation('relu'))\n",
    "model.add(MaxPooling2D(pool_size=(2, 2)))\n",
    "\n",
    "model.add(Conv2D(32, (3, 3)))\n",
    "model.add(Activation('relu'))\n",
    "model.add(MaxPooling2D(pool_size=(2, 2)))\n",
    "\n",
    "model.add(Conv2D(64, (3, 3)))\n",
    "model.add(Activation('relu'))\n",
    "model.add(MaxPooling2D(pool_size=(2, 2)))\n",
    "\n",
    "model.add(Flatten())\n",
    "model.add(Dense(64))\n",
    "model.add(Activation('relu'))\n",
    "model.add(Dropout(0.5))\n",
    "model.add(Dense(1))\n",
    "model.add(Activation('sigmoid'))\n",
    "\n",
    "model.compile(loss='binary_crossentropy',\n",
    "              optimizer='rmsprop',\n",
    "              metrics=['accuracy'])"
   ]
  },
  {
   "cell_type": "code",
   "execution_count": 17,
   "metadata": {
    "ExecuteTime": {
     "end_time": "2019-03-04T04:12:57.044516Z",
     "start_time": "2019-03-04T04:12:55.991789Z"
    }
   },
   "outputs": [
    {
     "name": "stdout",
     "output_type": "stream",
     "text": [
      "Found 4000 images belonging to 2 classes.\n",
      "Found 2000 images belonging to 2 classes.\n"
     ]
    }
   ],
   "source": [
    "train_datagen = ImageDataGenerator(\n",
    "    rescale=1. / 255,\n",
    "    shear_range=0.2,\n",
    "    zoom_range=0.2,\n",
    "    horizontal_flip=True)\n",
    "\n",
    "# this is the augmentation configuration we will use for testing:\n",
    "# only rescaling\n",
    "test_datagen = ImageDataGenerator(rescale=1. / 255)\n",
    "\n",
    "train_generator = train_datagen.flow_from_directory(\n",
    "    train_data_dir,\n",
    "    target_size=(img_width, img_height),\n",
    "    batch_size=batch_size,\n",
    "    class_mode='binary')\n",
    "\n",
    "validation_generator = test_datagen.flow_from_directory(\n",
    "    validation_data_dir,\n",
    "    target_size=(img_width, img_height),\n",
    "    batch_size=batch_size,\n",
    "    class_mode='binary')"
   ]
  },
  {
   "cell_type": "code",
   "execution_count": 111,
   "metadata": {
    "ExecuteTime": {
     "end_time": "2019-03-04T06:29:41.165883Z",
     "start_time": "2019-03-04T06:09:26.581839Z"
    }
   },
   "outputs": [
    {
     "name": "stdout",
     "output_type": "stream",
     "text": [
      "Epoch 1/10\n",
      "125/125 [==============================] - 117s 932ms/step - loss: 0.4591 - acc: 0.7930 - val_loss: 0.5688 - val_acc: 0.7218\n",
      "Epoch 2/10\n",
      "125/125 [==============================] - 115s 923ms/step - loss: 0.4579 - acc: 0.7960 - val_loss: 0.6050 - val_acc: 0.7681\n",
      "Epoch 3/10\n",
      "125/125 [==============================] - 118s 942ms/step - loss: 0.4338 - acc: 0.8080 - val_loss: 0.6015 - val_acc: 0.7732\n",
      "Epoch 4/10\n",
      "125/125 [==============================] - 119s 949ms/step - loss: 0.4382 - acc: 0.8000 - val_loss: 0.4474 - val_acc: 0.7933\n",
      "Epoch 5/10\n",
      "125/125 [==============================] - 115s 923ms/step - loss: 0.4618 - acc: 0.7980 - val_loss: 0.4761 - val_acc: 0.7802\n",
      "Epoch 6/10\n",
      "125/125 [==============================] - 116s 925ms/step - loss: 0.4393 - acc: 0.8030 - val_loss: 0.4323 - val_acc: 0.8054\n",
      "Epoch 7/10\n",
      "125/125 [==============================] - 127s 1s/step - loss: 0.4511 - acc: 0.7965 - val_loss: 0.4800 - val_acc: 0.7974\n",
      "Epoch 8/10\n",
      "125/125 [==============================] - 126s 1s/step - loss: 0.4396 - acc: 0.8080 - val_loss: 0.4865 - val_acc: 0.7792\n",
      "Epoch 9/10\n",
      "125/125 [==============================] - 134s 1s/step - loss: 0.4557 - acc: 0.7935 - val_loss: 0.5005 - val_acc: 0.7651\n",
      "Epoch 10/10\n",
      "125/125 [==============================] - 127s 1s/step - loss: 0.4210 - acc: 0.8165 - val_loss: 0.4635 - val_acc: 0.7833\n"
     ]
    }
   ],
   "source": [
    "model.fit_generator(\n",
    "    train_generator,\n",
    "    steps_per_epoch=nb_train_samples // batch_size,\n",
    "    epochs=10,\n",
    "    validation_data=validation_generator,\n",
    "    validation_steps=nb_validation_samples // batch_size)\n",
    "\n",
    "model.save_weights('first_try.h5', overwrite = True)"
   ]
  },
  {
   "cell_type": "code",
   "execution_count": null,
   "metadata": {
    "ExecuteTime": {
     "start_time": "2019-03-04T06:58:22.317Z"
    }
   },
   "outputs": [],
   "source": [
    "test_image = image.load_img(\"dog.4014.jpg\", target_size = (150,150), color_mode = \"rgb\")\n",
    "test_image"
   ]
  },
  {
   "cell_type": "code",
   "execution_count": 110,
   "metadata": {
    "ExecuteTime": {
     "end_time": "2019-03-04T06:07:49.027582Z",
     "start_time": "2019-03-04T06:07:48.992676Z"
    }
   },
   "outputs": [
    {
     "name": "stdout",
     "output_type": "stream",
     "text": [
      "Its a dog\n"
     ]
    }
   ],
   "source": [
    "tes_img = image.img_to_array(test_image)\n",
    "test_img = np.expand_dims(tes_img, axis = 0)\n",
    "result = model.predict(test_img)\n",
    "\n",
    "if(result[0][0] == 1):\n",
    "    print(\"Its a dog\")\n",
    "else:\n",
    "    print(\"It is a cat\")"
   ]
  },
  {
   "cell_type": "code",
   "execution_count": 118,
   "metadata": {
    "ExecuteTime": {
     "end_time": "2019-03-04T06:41:12.432165Z",
     "start_time": "2019-03-04T06:41:12.427178Z"
    }
   },
   "outputs": [],
   "source": []
  },
  {
   "cell_type": "code",
   "execution_count": 119,
   "metadata": {
    "ExecuteTime": {
     "end_time": "2019-03-04T06:41:12.656575Z",
     "start_time": "2019-03-04T06:41:12.653574Z"
    }
   },
   "outputs": [],
   "source": []
  },
  {
   "cell_type": "code",
   "execution_count": null,
   "metadata": {
    "ExecuteTime": {
     "start_time": "2019-03-04T06:42:46.226Z"
    }
   },
   "outputs": [],
   "source": []
  },
  {
   "cell_type": "code",
   "execution_count": null,
   "metadata": {},
   "outputs": [],
   "source": []
  }
 ],
 "metadata": {
  "kernelspec": {
   "display_name": "Python [conda env:keras_tf]",
   "language": "python",
   "name": "conda-env-keras_tf-py"
  },
  "language_info": {
   "codemirror_mode": {
    "name": "ipython",
    "version": 3
   },
   "file_extension": ".py",
   "mimetype": "text/x-python",
   "name": "python",
   "nbconvert_exporter": "python",
   "pygments_lexer": "ipython3",
   "version": "3.6.8"
  },
  "varInspector": {
   "cols": {
    "lenName": 16,
    "lenType": 16,
    "lenVar": 40
   },
   "kernels_config": {
    "python": {
     "delete_cmd_postfix": "",
     "delete_cmd_prefix": "del ",
     "library": "var_list.py",
     "varRefreshCmd": "print(var_dic_list())"
    },
    "r": {
     "delete_cmd_postfix": ") ",
     "delete_cmd_prefix": "rm(",
     "library": "var_list.r",
     "varRefreshCmd": "cat(var_dic_list()) "
    }
   },
   "types_to_exclude": [
    "module",
    "function",
    "builtin_function_or_method",
    "instance",
    "_Feature"
   ],
   "window_display": false
  }
 },
 "nbformat": 4,
 "nbformat_minor": 2
}
